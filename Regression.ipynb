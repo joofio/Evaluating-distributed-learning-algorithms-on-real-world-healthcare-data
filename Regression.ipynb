{
 "cells": [
  {
   "cell_type": "markdown",
   "id": "910dbcea-0886-43d5-a073-2be3fcb54131",
   "metadata": {},
   "source": [
    "## Regression"
   ]
  },
  {
   "cell_type": "code",
   "execution_count": 4,
   "id": "a32f590e-1a6b-49fe-b61b-8460c42fbc78",
   "metadata": {
    "execution": {
     "iopub.execute_input": "2022-06-28T12:56:02.912060Z",
     "iopub.status.busy": "2022-06-28T12:56:02.911402Z",
     "iopub.status.idle": "2022-06-28T12:56:02.924877Z",
     "shell.execute_reply": "2022-06-28T12:56:02.924056Z",
     "shell.execute_reply.started": "2022-06-28T12:56:02.912021Z"
    },
    "tags": []
   },
   "outputs": [],
   "source": [
    "import re\n",
    "import sys\n",
    "import warnings\n",
    "from collections import Counter, defaultdict\n",
    "from federated_eval_helper_functions import *\n",
    "import matplotlib as mpl\n",
    "import matplotlib.font_manager as fm\n",
    "import numpy as np\n",
    "import pandas as pd\n",
    "import scipy.stats as st\n",
    "import statsmodels.stats.api as sms\n",
    "from imblearn.over_sampling import  RandomOverSampler\n",
    "from IPython.display import Audio\n",
    "from matplotlib import pyplot as plt\n",
    "from pylab import cm\n",
    "from scipy.stats import ttest_ind\n",
    "from sklearn import set_config\n",
    "from sklearn.compose import ColumnTransformer\n",
    "from sklearn.impute import SimpleImputer\n",
    "from sklearn.linear_model import BayesianRidge\n",
    "from sklearn.metrics import (\n",
    "   mean_squared_error,mean_absolute_error\n",
    ")\n",
    "from sklearn.model_selection import (\n",
    "    GridSearchCV,\n",
    "    RepeatedKFold,\n",
    "    train_test_split,\n",
    ")\n",
    "import statistics\n",
    "from sklearn.pipeline import Pipeline, make_pipeline\n",
    "from sklearn.preprocessing import (\n",
    "    FunctionTransformer,\n",
    "    LabelBinarizer,\n",
    "    LabelEncoder,\n",
    "    OneHotEncoder,\n",
    "    OrdinalEncoder,\n",
    "    StandardScaler,\n",
    ")\n",
    "from sklearn.preprocessing import label_binarize\n",
    "\n",
    "from itertools import compress\n",
    "from sklearn.svm import SVC\n",
    "from sklearn.tree import DecisionTreeRegressor\n",
    "import glob\n",
    "import pickle\n",
    "import json\n",
    "\n",
    "from sklearn.linear_model import  SGDRegressor\n",
    "from sklearn.linear_model import BayesianRidge\n",
    "from sklearn.neighbors import KNeighborsRegressor\n",
    "from sklearn.ensemble import AdaBoostRegressor\n",
    "from sklearn.neural_network import MLPRegressor"
   ]
  },
  {
   "cell_type": "markdown",
   "id": "f88441fd-d7cf-44d5-877a-f9af96e4c1b1",
   "metadata": {},
   "source": [
    "# import treated data"
   ]
  },
  {
   "cell_type": "code",
   "execution_count": 5,
   "id": "9ffd2a27",
   "metadata": {},
   "outputs": [],
   "source": [
    "REPS = 10\n",
    "CV_NUMBER = 10\n"
   ]
  },
  {
   "cell_type": "code",
   "execution_count": 6,
   "id": "0b2f3f87-8aa0-4798-aaee-34ffc6378dd2",
   "metadata": {
    "execution": {
     "iopub.execute_input": "2022-06-28T12:55:21.703745Z",
     "iopub.status.busy": "2022-06-28T12:55:21.703667Z",
     "iopub.status.idle": "2022-06-28T12:55:23.083596Z",
     "shell.execute_reply": "2022-06-28T12:55:23.081809Z",
     "shell.execute_reply.started": "2022-06-28T12:55:21.703737Z"
    },
    "tags": []
   },
   "outputs": [],
   "source": [
    "# Collect all the font names available to matplotlib\n",
    "font_names = [f.name for f in fm.fontManager.ttflist]\n",
    "#print(font_names)\n",
    "# Edit the font, font size, and axes width\n",
    "mpl.rcParams[\"font.family\"] = \"Avenir\"\n",
    "plt.rcParams[\"font.size\"] = 10\n",
    "plt.rcParams[\"axes.linewidth\"] = 2\n",
    "# Generate 2 colors from the 'tab10' colormap\n",
    "colors = cm.get_cmap(\"tab10\", 2)\n",
    "\n",
    "sound_file = \"https://www.soundjay.com/buttons/button-09a.wav\"  # https://www.soundjay.com/buttons/sounds/button-1.mp3\n",
    "alarm = Audio(sound_file, autoplay=True)"
   ]
  },
  {
   "cell_type": "code",
   "execution_count": 7,
   "id": "b786714e-0e35-49b7-b70c-916c1165f60b",
   "metadata": {
    "execution": {
     "iopub.execute_input": "2022-06-28T12:55:23.089972Z",
     "iopub.status.busy": "2022-06-28T12:55:23.085836Z",
     "iopub.status.idle": "2022-06-28T12:55:23.212653Z",
     "shell.execute_reply": "2022-06-28T12:55:23.212349Z",
     "shell.execute_reply.started": "2022-06-28T12:55:23.089902Z"
    },
    "tags": []
   },
   "outputs": [],
   "source": [
    "silo_imputed=[]\n",
    "for idx,file in enumerate(glob.glob(\"/Users/joaoalmeida/Desktop/tese_local/Obscare Giovana/imputed/silo*.csv\")):\n",
    "    silo_imputed.append(pd.read_csv(file,index_col=0))"
   ]
  },
  {
   "cell_type": "code",
   "execution_count": 8,
   "id": "3700d03f",
   "metadata": {},
   "outputs": [],
   "source": [
    "with open(\"col_types.json\", \"r\") as infile:\n",
    "    col_types = json.load(infile)\n",
    "int_cols=col_types[\"int\"]\n",
    "cat_cols=col_types[\"cat\"]"
   ]
  },
  {
   "cell_type": "code",
   "execution_count": 9,
   "id": "0ffa4879-84c3-4ead-b974-7c6cc45c60d0",
   "metadata": {
    "execution": {
     "iopub.execute_input": "2022-06-28T12:55:25.867743Z",
     "iopub.status.busy": "2022-06-28T12:55:25.867067Z",
     "iopub.status.idle": "2022-06-28T12:55:25.875577Z",
     "shell.execute_reply": "2022-06-28T12:55:25.874577Z",
     "shell.execute_reply.started": "2022-06-28T12:55:25.867697Z"
    },
    "tags": []
   },
   "outputs": [],
   "source": [
    "target_int_cols=[\"IDADE_MATERNA\",\n",
    "\"PESO_INICIAL\",\n",
    "\"IMC\",\n",
    "\"NUMERO_CONSULTAS_PRE_NATAL\",\n",
    "\"IDADE_GESTACIONAL_ADMISSAO\",\n",
    "\"SEMANAS_GESTACAO_PARTO\"]"
   ]
  },
  {
   "cell_type": "markdown",
   "id": "28360d73-c7dd-4a71-9d26-6645946596e9",
   "metadata": {},
   "source": [
    "# Modeling"
   ]
  },
  {
   "cell_type": "code",
   "execution_count": 10,
   "id": "9320d652-4b88-4c55-9173-c32824599ace",
   "metadata": {
    "execution": {
     "iopub.execute_input": "2022-06-28T12:55:26.197629Z",
     "iopub.status.busy": "2022-06-28T12:55:26.197251Z",
     "iopub.status.idle": "2022-06-28T12:55:26.204872Z",
     "shell.execute_reply": "2022-06-28T12:55:26.202233Z",
     "shell.execute_reply.started": "2022-06-28T12:55:26.197603Z"
    },
    "tags": []
   },
   "outputs": [],
   "source": [
    "def define_weights(grid_list):\n",
    "    i = 0\n",
    "    result_list = []\n",
    "    for grid in grid_list:\n",
    "       # print(grid.best_score_)\n",
    "        result_list.append(grid.best_score_)\n",
    "        i += grid.best_score_\n",
    "        #print(i)\n",
    "    return [1/(v / i) for v in result_list]"
   ]
  },
  {
   "cell_type": "code",
   "execution_count": 11,
   "id": "1963dbd0-87ee-4be6-9bfc-5a82517012d4",
   "metadata": {
    "execution": {
     "iopub.execute_input": "2022-06-28T12:55:26.357406Z",
     "iopub.status.busy": "2022-06-28T12:55:26.357118Z",
     "iopub.status.idle": "2022-06-28T12:55:26.366140Z",
     "shell.execute_reply": "2022-06-28T12:55:26.365461Z",
     "shell.execute_reply.started": "2022-06-28T12:55:26.357381Z"
    },
    "tags": []
   },
   "outputs": [],
   "source": [
    "def predict_global_model(models,X):\n",
    "    result=[]\n",
    "    w=models[\"weigths\"]\n",
    "    for idx,model in enumerate(models[\"global_model\"]):\n",
    "        pred=model.predict(X)\n",
    "     #   print(pred[0:4])\n",
    "      #  print(pred*w[idx]/np.sum(w))\n",
    "        result.append(pred*w[idx]/np.sum(w))\n",
    "    result=np.asarray(result)\n",
    "    return result.sum(axis=0)\n",
    "        "
   ]
  },
  {
   "cell_type": "code",
   "execution_count": 12,
   "id": "a37763c3-40c6-4835-992a-691e7de41dd3",
   "metadata": {
    "execution": {
     "iopub.execute_input": "2022-06-28T12:55:26.666091Z",
     "iopub.status.busy": "2022-06-28T12:55:26.665788Z",
     "iopub.status.idle": "2022-06-28T12:55:26.683738Z",
     "shell.execute_reply": "2022-06-28T12:55:26.682843Z",
     "shell.execute_reply.started": "2022-06-28T12:55:26.666065Z"
    },
    "tags": []
   },
   "outputs": [],
   "source": [
    "def evaluate_distributed_model_regression(\n",
    "    silos, target, metrics, cv,int_cols,cat_cols, tuned_parameters, model,  model_type=\"myvoting\",debug_mode=False\n",
    "):\n",
    "    \"\"\"\n",
    "    for every silo, trains and local model with hyperparameter tuning (CV)\n",
    "    After that, creates a global_model and with all locals and global evaluates on the test set several metrics\n",
    "    remove low frequency target (below 4) in order to get proper metric values (weighted f1 and auc)\n",
    "    \"\"\"\n",
    "    grid_list = []\n",
    "    result = {}\n",
    "    models = []\n",
    "    test_sets = []\n",
    "    X_train_list = []\n",
    "    y_train_list = []\n",
    "    f = open(\"logs/regression_\" + str(type(model).__name__) + \".txt\", \"a\")\n",
    "    log_to_file(f,[\"start\",type(model).__name__])\n",
    "    for idx, silo in enumerate(silos):\n",
    "        if debug_mode:\n",
    "            print(\"silo\",str(idx))\n",
    "            print(np.random.randint(1,20))\n",
    "        if \"random_state\" in model.get_params().keys():\n",
    "            model.set_params(random_state=np.random.randint(1, 20))\n",
    "\n",
    "        clf = GridSearchCV(\n",
    "            model, tuned_parameters, cv=RepeatedKFold(n_splits=cv,n_repeats=2), n_jobs=-3,scoring = 'neg_mean_squared_error'\n",
    "        )\n",
    "        #X,y=evaluate_variables_and_transform_variables(silo,target,int_cols,cat_cols,full_classes[target])\n",
    "        y = silo[target]\n",
    "        X = silo.drop(columns=[target])\n",
    "        \n",
    "        X_train, X_test, y_train, y_test = train_test_split(\n",
    "                X, y, test_size=0.2\n",
    "            )\n",
    "\n",
    "        test_sets.append((y_test, X_test))\n",
    "        X_train_list.append(X_train)\n",
    "        y_train_list.append(y_train)\n",
    "        models.append(clf.fit(X_train, y_train).best_estimator_)\n",
    "        grid_list.append(clf)\n",
    "\n",
    "    w = define_weights(grid_list) #explain paper -> define weights based on scores / sum of all scores\n",
    "   # print(\"w,\",str(w))\n",
    "\n",
    "    global_models={\"global_model\":models,\"weigths\":w}\n",
    "   # print(global_models)\n",
    "    for idx, tests in enumerate(test_sets):\n",
    "\n",
    "        y_pred_l = models[idx].predict(tests[1])\n",
    "        y_pred_g = predict_global_model(global_models,tests[1])\n",
    "       # print(y_pred_l[0:4],y_pred_g[0:4])\n",
    "        for metric in metrics:\n",
    "            if metric == \"rmse\":\n",
    "                result[\"silo\" + str(idx + 1) + \"_rmse_local\"] = mean_squared_error(tests[0],y_pred_l)\n",
    "\n",
    "                result[\"silo\" + str(idx + 1) + \"_rmse_global\"] = mean_squared_error(tests[0],y_pred_g)\n",
    "            if metric == \"mae\":\n",
    "                result[\"silo\" + str(idx + 1) + \"_mae_local\"] = mean_absolute_error(tests[0],y_pred_l)\n",
    "\n",
    "                result[\"silo\" + str(idx + 1) + \"_mae_global\"] = mean_absolute_error(tests[0],y_pred_g)\n",
    "    f.close()\n",
    "\n",
    "    return result,global_models"
   ]
  },
  {
   "cell_type": "code",
   "execution_count": 13,
   "id": "4e0a8e52-beef-4b80-bc99-175739bc969b",
   "metadata": {
    "execution": {
     "iopub.execute_input": "2022-06-28T12:55:27.219823Z",
     "iopub.status.busy": "2022-06-28T12:55:27.219444Z",
     "iopub.status.idle": "2022-06-28T12:55:27.235553Z",
     "shell.execute_reply": "2022-06-28T12:55:27.234660Z",
     "shell.execute_reply.started": "2022-06-28T12:55:27.219796Z"
    },
    "tags": []
   },
   "outputs": [],
   "source": [
    "def evalute_full_method_regression(\n",
    "    targets,\n",
    "    silos,\n",
    "    metrics,\n",
    "    tuned_parameters,\n",
    "    cv,int_cols,cat_cols,\n",
    "    model=SGDClassifier(loss=\"log\"),\n",
    "    repeats=2,\n",
    "    model_type=\"myvoting\",debug_mode=False\n",
    "):\n",
    "    total = {k: [] for k in targets}\n",
    "    np.random.seed(42)\n",
    "    for target in targets:\n",
    "        print(\"evaluating \" + target + \"... \")\n",
    "        total[target] = {}\n",
    "        #total[target][\"models\"] = []\n",
    "        #total[target][\"g_model\"] = []\n",
    "        for metric in metrics:\n",
    "            for silonr, silo in enumerate(silos):\n",
    "                total[target][\"silo\" + str(silonr + 1) + \"_\" + metric + \"_local\"] = []\n",
    "                total[target][\"silo\" + str(silonr + 1) + \"_\" + metric + \"_global\"] = []\n",
    "        for i in range(repeats):\n",
    "            t = evaluate_distributed_model_regression(\n",
    "                silos=silos,\n",
    "                target=target,\n",
    "                metrics=metrics,\n",
    "                tuned_parameters=tuned_parameters,\n",
    "                cv=cv,int_cols=int_cols,cat_cols=cat_cols,\n",
    "                model=model,\n",
    "                model_type=model_type,debug_mode=debug_mode\n",
    "            )\n",
    "            for metric in metrics:\n",
    "                for silonr, silo in enumerate(silos):\n",
    "                    total[target][\n",
    "                        \"silo\" + str(silonr + 1) + \"_\" + metric + \"_local\"\n",
    "                    ].append(t[0][\"silo\" + str(silonr + 1) + \"_\" + metric + \"_local\"])\n",
    "\n",
    "                    total[target][\n",
    "                        \"silo\" + str(silonr + 1) + \"_\" + metric + \"_global\"\n",
    "                    ].append(t[0][\"silo\" + str(silonr + 1) + \"_\" + metric + \"_global\"])\n",
    "            #total[target][\"models\"].append(t[1])\n",
    "            #total[target][\"g_model\"].append(t[2])\n",
    "        save_zipped_model(target, model, model_type, t[1])\n",
    "\n",
    "    return total"
   ]
  },
  {
   "cell_type": "markdown",
   "id": "c8fbf911-37d1-4009-978c-e3f0d3ddb302",
   "metadata": {},
   "source": [
    "## SGD"
   ]
  },
  {
   "cell_type": "code",
   "execution_count": 21,
   "id": "4b30f1ae-96ac-43d8-b6fe-71198647cbaa",
   "metadata": {
    "execution": {
     "iopub.execute_input": "2022-06-22T13:48:25.235420Z",
     "iopub.status.busy": "2022-06-22T13:48:25.234670Z",
     "iopub.status.idle": "2022-06-22T13:50:18.632129Z",
     "shell.execute_reply": "2022-06-22T13:50:18.626388Z",
     "shell.execute_reply.started": "2022-06-22T13:48:25.235360Z"
    },
    "tags": []
   },
   "outputs": [
    {
     "name": "stdout",
     "output_type": "stream",
     "text": [
      "evaluating IDADE_MATERNA... \n",
      "evaluating PESO_INICIAL... \n",
      "evaluating IMC... \n",
      "evaluating NUMERO_CONSULTAS_PRE_NATAL... \n",
      "evaluating IDADE_GESTACIONAL_ADMISSAO... \n",
      "evaluating SEMANAS_GESTACAO_PARTO... \n",
      "CPU times: user 51.3 s, sys: 15.8 s, total: 1min 7s\n",
      "Wall time: 2min 17s\n"
     ]
    },
    {
     "data": {
      "text/html": [
       "\n",
       "                <audio  controls=\"controls\" autoplay=\"autoplay\">\n",
       "                    <source src=\"data:audio/x-wav;base64,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\" type=\"audio/x-wav\" />\n",
       "                    Your browser does not support the audio element.\n",
       "                </audio>\n",
       "              "
      ],
      "text/plain": [
       "<IPython.lib.display.Audio object>"
      ]
     },
     "execution_count": 21,
     "metadata": {},
     "output_type": "execute_result"
    }
   ],
   "source": [
    "%%time\n",
    "# 9 min\n",
    "total = evalute_full_method_regression(\n",
    "    repeats=10,\n",
    "    targets=target_int_cols,\n",
    "    metrics=[\"rmse\",\"mae\"],\n",
    "    silos=silo_imputed,\n",
    "    cv=10,int_cols=int_cols,cat_cols=cat_cols,\n",
    "    tuned_parameters=[{\"alpha\": [1e-15,1e-10,1e-5,1e-2],\"tol\":[40,50,30,20,12],\"eta0\":[1e-6,1e-5,1e-4],\"epsilon\":[0.1,0.01],\"penalty\":[\"l2\",\"l1\"],\"max_iter\":[10000]}],\n",
    "    model=SGDRegressor(learning_rate=\"adaptive\"),\n",
    "    model_type=\"ensemble\",debug_mode=False\n",
    ")\n",
    "alarm"
   ]
  },
  {
   "cell_type": "code",
   "execution_count": 26,
   "id": "b6260979-7e46-43d4-a42d-f974cc06cccf",
   "metadata": {
    "execution": {
     "iopub.execute_input": "2022-06-22T13:50:25.860052Z",
     "iopub.status.busy": "2022-06-22T13:50:25.859486Z",
     "iopub.status.idle": "2022-06-22T13:50:25.897889Z",
     "shell.execute_reply": "2022-06-22T13:50:25.897625Z",
     "shell.execute_reply.started": "2022-06-22T13:50:25.860005Z"
    },
    "tags": []
   },
   "outputs": [],
   "source": [
    "df_sgd=from_dict_to_df_raw(total,\"SGD\")\n",
    "now=datetime.now()\n",
    "date_time = now.strftime(\"%Y%m%d%H\")\n",
    "df_sgd.to_csv(\"results/reg_sgd\"+date_time+\".csv\")"
   ]
  },
  {
   "attachments": {},
   "cell_type": "markdown",
   "id": "64f0a2fc",
   "metadata": {},
   "source": [
    "## Decision Trees"
   ]
  },
  {
   "cell_type": "code",
   "execution_count": 12,
   "id": "1b7740fb-e302-4cf6-9f54-eaf108361d24",
   "metadata": {
    "execution": {
     "iopub.execute_input": "2022-06-24T19:31:12.496523Z",
     "iopub.status.busy": "2022-06-24T19:31:12.495686Z",
     "iopub.status.idle": "2022-06-25T07:04:17.446658Z",
     "shell.execute_reply": "2022-06-25T07:04:17.446337Z",
     "shell.execute_reply.started": "2022-06-24T19:31:12.496469Z"
    },
    "tags": []
   },
   "outputs": [
    {
     "name": "stdout",
     "output_type": "stream",
     "text": [
      "evaluating IDADE_MATERNA... \n",
      "evaluating PESO_INICIAL... \n",
      "evaluating IMC... \n",
      "evaluating NUMERO_CONSULTAS_PRE_NATAL... \n",
      "evaluating IDADE_GESTACIONAL_ADMISSAO... \n",
      "evaluating SEMANAS_GESTACAO_PARTO... \n",
      "CPU times: user 12min 39s, sys: 12.2 s, total: 12min 51s\n",
      "Wall time: 3h 22min 59s\n"
     ]
    },
    {
     "data": {
      "text/html": [
       "\n",
       "                <audio  controls=\"controls\" autoplay=\"autoplay\">\n",
       "                    <source src=\"data:audio/x-wav;base64,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\" type=\"audio/x-wav\" />\n",
       "                    Your browser does not support the audio element.\n",
       "                </audio>\n",
       "              "
      ],
      "text/plain": [
       "<IPython.lib.display.Audio object>"
      ]
     },
     "execution_count": 12,
     "metadata": {},
     "output_type": "execute_result"
    }
   ],
   "source": [
    "%%time\n",
    "#3h22\n",
    "warnings.filterwarnings(\"ignore\")\n",
    "\n",
    "total_dt = evalute_full_method_regression(\n",
    "  targets=target_int_cols,\n",
    "    metrics=[\"rmse\",\"mae\"],\n",
    "    silos=silo_imputed,\n",
    "    cv=10,int_cols=int_cols,cat_cols=cat_cols,\n",
    "    tuned_parameters=[\n",
    "        {\"criterion\": [\"squared_error\", \"absolute_error\"], \"max_features\": [\"log2\", \"auto\"]}\n",
    "    ],\n",
    "    model=DecisionTreeRegressor(),\n",
    "    repeats=10,\n",
    "    model_type=\"ensemble\",\n",
    ")\n",
    "alarm"
   ]
  },
  {
   "cell_type": "code",
   "execution_count": 13,
   "id": "4d3cd950-d8e7-4d58-b630-1ec50b126f1b",
   "metadata": {
    "execution": {
     "iopub.execute_input": "2022-06-25T07:04:17.516004Z",
     "iopub.status.busy": "2022-06-25T07:04:17.515888Z",
     "iopub.status.idle": "2022-06-25T07:04:17.543710Z"
    },
    "tags": []
   },
   "outputs": [],
   "source": [
    "df_dt=from_dict_to_df_raw(total_dt,\"decisionTree\")\n",
    "df_dt.head()\n",
    "now=datetime.now()\n",
    "date_time = now.strftime(\"%Y%m%d%H\")\n",
    "df_dt.to_csv(\"reg_dt\"+date_time+\".csv\")"
   ]
  },
  {
   "attachments": {},
   "cell_type": "markdown",
   "id": "690a3e56-7e9a-4f83-a038-288c77c615a1",
   "metadata": {},
   "source": [
    "## Gaussian NB"
   ]
  },
  {
   "cell_type": "code",
   "execution_count": null,
   "id": "d74ffecf-7ffa-4afe-a071-ef151e020144",
   "metadata": {
    "execution": {
     "iopub.execute_input": "2022-06-21T16:23:50.150637Z",
     "iopub.status.busy": "2022-06-21T16:23:50.150565Z",
     "iopub.status.idle": "2022-06-21T16:32:12.774415Z",
     "shell.execute_reply": "2022-06-21T16:32:12.770370Z",
     "shell.execute_reply.started": "2022-06-21T16:23:50.150628Z"
    },
    "tags": []
   },
   "outputs": [
    {
     "name": "stdout",
     "output_type": "stream",
     "text": [
      "evaluating IDADE_MATERNA... \n",
      "evaluating PESO_INICIAL... \n",
      "evaluating IMC... \n",
      "evaluating NUMERO_CONSULTAS_PRE_NATAL... \n",
      "evaluating IDADE_GESTACIONAL_ADMISSAO... \n",
      "evaluating SEMANAS_GESTACAO_PARTO... \n",
      "CPU times: user 17min 5s, sys: 7min 1s, total: 24min 7s\n",
      "Wall time: 8min 52s\n"
     ]
    },
    {
     "data": {
      "text/html": [
       "\n",
       "                <audio  controls=\"controls\" autoplay=\"autoplay\">\n",
       "                    <source src=\"data:audio/x-wav;base64,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\" type=\"audio/x-wav\" />\n",
       "                    Your browser does not support the audio element.\n",
       "                </audio>\n",
       "              "
      ],
      "text/plain": [
       "<IPython.lib.display.Audio object>"
      ]
     },
     "execution_count": 15,
     "metadata": {},
     "output_type": "execute_result"
    }
   ],
   "source": [
    "%%time\n",
    "#Wall time: 8min 27s\n",
    "total_nb = evalute_full_method_regression(\n",
    "  targets=target_int_cols,\n",
    "    metrics=[\"rmse\",\"mae\"],\n",
    "    silos=silo_imputed,\n",
    "    cv=10,int_cols=int_cols,cat_cols=cat_cols,\n",
    "    tuned_parameters=[{\"tol\": [1e-3, 1e-4],\"alpha_1\":[1e-6,1e-5,1e-4],\"alpha_2\":[1e-6,1e-5,1e-4]}],\n",
    "    model=BayesianRidge(),\n",
    "    repeats=10,\n",
    "    model_type=\"ensemble\",\n",
    ")\n",
    "alarm"
   ]
  },
  {
   "cell_type": "code",
   "execution_count": 27,
   "id": "3193328f-5e16-49d7-b516-102908d16bbe",
   "metadata": {
    "execution": {
     "iopub.execute_input": "2022-06-21T16:32:12.881734Z",
     "iopub.status.busy": "2022-06-21T16:32:12.881441Z",
     "iopub.status.idle": "2022-06-21T16:32:12.913073Z",
     "shell.execute_reply": "2022-06-21T16:32:12.910668Z",
     "shell.execute_reply.started": "2022-06-21T16:32:12.881711Z"
    },
    "tags": []
   },
   "outputs": [],
   "source": [
    "df_nb=from_dict_to_df_raw(total_nb,\"BayesianRidge\")\n",
    "date_time = now.strftime(\"%Y%m%d%H\")\n",
    "df_nb.to_csv(\"results/reg_nb\"+date_time+\".csv\")"
   ]
  },
  {
   "attachments": {},
   "cell_type": "markdown",
   "id": "03ce2d51-35fe-440a-a554-818100c1c843",
   "metadata": {},
   "source": [
    "## KNN"
   ]
  },
  {
   "cell_type": "code",
   "execution_count": 15,
   "id": "874599d3-4d2d-43c5-86f6-45ec7421c2ca",
   "metadata": {
    "execution": {
     "iopub.execute_input": "2022-06-28T12:56:56.281573Z",
     "iopub.status.busy": "2022-06-28T12:56:56.281268Z",
     "iopub.status.idle": "2022-06-28T13:37:52.160705Z",
     "shell.execute_reply": "2022-06-28T13:37:52.160170Z",
     "shell.execute_reply.started": "2022-06-28T12:56:56.281547Z"
    },
    "tags": []
   },
   "outputs": [
    {
     "name": "stdout",
     "output_type": "stream",
     "text": [
      "evaluating IDADE_MATERNA... \n",
      "evaluating PESO_INICIAL... \n",
      "evaluating IMC... \n",
      "evaluating NUMERO_CONSULTAS_PRE_NATAL... \n",
      "evaluating IDADE_GESTACIONAL_ADMISSAO... \n",
      "evaluating SEMANAS_GESTACAO_PARTO... \n",
      "CPU times: user 45min 54s, sys: 53min 33s, total: 1h 39min 27s\n",
      "Wall time: 1h 4min 59s\n"
     ]
    },
    {
     "data": {
      "text/html": [
       "\n",
       "                <audio  controls=\"controls\" autoplay=\"autoplay\">\n",
       "                    <source src=\"data:audio/x-wav;base64,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\" type=\"audio/x-wav\" />\n",
       "                    Your browser does not support the audio element.\n",
       "                </audio>\n",
       "              "
      ],
      "text/plain": [
       "<IPython.lib.display.Audio object>"
      ]
     },
     "execution_count": 15,
     "metadata": {},
     "output_type": "execute_result"
    }
   ],
   "source": [
    "%%time\n",
    "#Wall time: 1h4min\n",
    "\n",
    "total_knn = evalute_full_method_regression(\n",
    "  targets=target_int_cols,\n",
    "    metrics=[\"rmse\",\"mae\"],\n",
    "    silos=silo_imputed,\n",
    "    cv=10,int_cols=int_cols,cat_cols=cat_cols,\n",
    "    tuned_parameters={\n",
    "            \"n_neighbors\": [5,7,10],\n",
    "            \"p\": [1,2]\n",
    "        },\n",
    "    model=  KNeighborsRegressor(),\n",
    "    repeats=10,\n",
    "    model_type=\"ensemble\",\n",
    ")\n",
    "alarm"
   ]
  },
  {
   "cell_type": "code",
   "execution_count": 16,
   "id": "53a63587-e1f2-41a7-9895-f7a623cb5fc8",
   "metadata": {
    "execution": {
     "iopub.execute_input": "2022-06-23T16:22:07.734829Z",
     "iopub.status.busy": "2022-06-23T16:22:07.734670Z",
     "iopub.status.idle": "2022-06-23T16:22:07.754944Z",
     "shell.execute_reply": "2022-06-23T16:22:07.754654Z",
     "shell.execute_reply.started": "2022-06-23T16:22:07.734820Z"
    },
    "tags": []
   },
   "outputs": [],
   "source": [
    "df_knn=from_dict_to_df_raw(total_knn,\"KNN\")\n",
    "df_knn.head()\n",
    "now=datetime.now()\n",
    "date_time = now.strftime(\"%Y%m%d%H\")\n",
    "df_knn.to_csv(\"results/reg_knn\"+date_time+\".csv\")"
   ]
  },
  {
   "attachments": {},
   "cell_type": "markdown",
   "id": "cad85b92-456b-44cc-9838-bf666cbea720",
   "metadata": {},
   "source": [
    "## ADABOOST"
   ]
  },
  {
   "cell_type": "code",
   "execution_count": 12,
   "id": "8f76c569-bcf3-4a79-93e1-ca8a7e4fb300",
   "metadata": {
    "execution": {
     "iopub.execute_input": "2022-06-21T17:11:07.375066Z",
     "iopub.status.busy": "2022-06-21T17:11:07.375003Z",
     "iopub.status.idle": "2022-06-21T17:46:04.177625Z",
     "shell.execute_reply": "2022-06-21T17:46:04.177381Z",
     "shell.execute_reply.started": "2022-06-21T17:11:07.375058Z"
    },
    "tags": []
   },
   "outputs": [
    {
     "name": "stdout",
     "output_type": "stream",
     "text": [
      "evaluating IDADE_MATERNA... \n",
      "evaluating PESO_INICIAL... \n",
      "evaluating IMC... \n",
      "evaluating NUMERO_CONSULTAS_PRE_NATAL... \n",
      "evaluating IDADE_GESTACIONAL_ADMISSAO... \n",
      "evaluating SEMANAS_GESTACAO_PARTO... \n",
      "CPU times: user 3min 18s, sys: 26.9 s, total: 3min 45s\n",
      "Wall time: 37min 27s\n"
     ]
    },
    {
     "data": {
      "text/html": [
       "\n",
       "                <audio  controls=\"controls\" autoplay=\"autoplay\">\n",
       "                    <source src=\"data:audio/x-wav;base64,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\" type=\"audio/x-wav\" />\n",
       "                    Your browser does not support the audio element.\n",
       "                </audio>\n",
       "              "
      ],
      "text/plain": [
       "<IPython.lib.display.Audio object>"
      ]
     },
     "execution_count": 12,
     "metadata": {},
     "output_type": "execute_result"
    }
   ],
   "source": [
    "%%time\n",
    "#Wall time: 35m 1.27s\n",
    "total_adaboost = evalute_full_method_regression(\n",
    "  targets=target_int_cols,\n",
    "    metrics=[\"rmse\",\"mae\"],\n",
    "    silos=silo_imputed,\n",
    "    cv=10,int_cols=int_cols,cat_cols=cat_cols,\n",
    "    tuned_parameters={\n",
    "            \"learning_rate\": [1,2,0.5],\n",
    "            \"n_estimators\": [25,50]\n",
    "        },\n",
    "    model= AdaBoostRegressor(),\n",
    "    repeats=10,\n",
    "    model_type=\"ensemble\",\n",
    ")\n",
    "alarm"
   ]
  },
  {
   "cell_type": "code",
   "execution_count": 13,
   "id": "885f0b2e-6c48-4f58-8743-aba8cb196e67",
   "metadata": {
    "execution": {
     "iopub.execute_input": "2022-06-21T17:46:04.214346Z",
     "iopub.status.busy": "2022-06-21T17:46:04.214283Z",
     "iopub.status.idle": "2022-06-21T17:46:04.233801Z",
     "shell.execute_reply": "2022-06-21T17:46:04.233572Z",
     "shell.execute_reply.started": "2022-06-21T17:46:04.214338Z"
    },
    "tags": []
   },
   "outputs": [],
   "source": [
    "df_adaboost=from_dict_to_df_raw(total_adaboost,\"ADABOOST\")\n",
    "now=datetime.now()\n",
    "date_time = now.strftime(\"%Y%m%d%H\")\n",
    "df_adaboost.to_csv(\"results/reg_adaboost\"+date_time+\".csv\")"
   ]
  },
  {
   "cell_type": "markdown",
   "id": "88e7911d-d090-4c88-9989-d58b8a49f713",
   "metadata": {},
   "source": [
    "## NN"
   ]
  },
  {
   "cell_type": "code",
   "execution_count": 14,
   "id": "756478fb-3f88-4a16-9787-edc54e71fdc5",
   "metadata": {
    "execution": {
     "iopub.execute_input": "2022-06-21T18:12:00.861089Z",
     "iopub.status.busy": "2022-06-21T18:12:00.860454Z",
     "iopub.status.idle": "2022-06-21T18:35:53.784797Z",
     "shell.execute_reply": "2022-06-21T18:35:53.782623Z",
     "shell.execute_reply.started": "2022-06-21T18:12:00.861031Z"
    },
    "tags": []
   },
   "outputs": [
    {
     "name": "stdout",
     "output_type": "stream",
     "text": [
      "evaluating IDADE_MATERNA... \n",
      "evaluating PESO_INICIAL... \n",
      "evaluating IMC... \n",
      "evaluating NUMERO_CONSULTAS_PRE_NATAL... \n",
      "evaluating IDADE_GESTACIONAL_ADMISSAO... \n",
      "evaluating SEMANAS_GESTACAO_PARTO... \n",
      "CPU times: user 27min 27s, sys: 4min 2s, total: 31min 30s\n",
      "Wall time: 27min 31s\n"
     ]
    },
    {
     "data": {
      "text/html": [
       "\n",
       "                <audio  controls=\"controls\" autoplay=\"autoplay\">\n",
       "                    <source src=\"data:audio/x-wav;base64,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\" type=\"audio/x-wav\" />\n",
       "                    Your browser does not support the audio element.\n",
       "                </audio>\n",
       "              "
      ],
      "text/plain": [
       "<IPython.lib.display.Audio object>"
      ]
     },
     "execution_count": 14,
     "metadata": {},
     "output_type": "execute_result"
    }
   ],
   "source": [
    "%%time\n",
    "#Wall time: 27min 37s\n",
    "\n",
    "total_nn= evalute_full_method_regression(\n",
    "  targets=target_int_cols,\n",
    "    metrics=[\"rmse\",\"mae\"],\n",
    "    silos=silo_imputed,\n",
    "    cv=10,int_cols=int_cols,cat_cols=cat_cols,\n",
    "    tuned_parameters={\n",
    "            \"solver\": [\"lbfgs\"],\"learning_rate_init\":[0.001,1e-4],\"max_iter\":[10000,500],\"hidden_layer_sizes\":[(100,)],\n",
    "            \"alpha\": [1e-5,1e-4],\"learning_rate\":[\"adaptive\"],\"tol\":[10,20]\n",
    "        },\n",
    "    model= MLPRegressor(),\n",
    "    repeats=10,\n",
    "    model_type=\"ensemble\",\n",
    ")\n",
    "alarm"
   ]
  },
  {
   "cell_type": "code",
   "execution_count": 16,
   "id": "682ff888-fb23-4904-aa43-7008a68ff41a",
   "metadata": {
    "execution": {
     "iopub.execute_input": "2022-06-21T18:35:53.876494Z",
     "iopub.status.busy": "2022-06-21T18:35:53.875526Z",
     "iopub.status.idle": "2022-06-21T18:35:53.919133Z",
     "shell.execute_reply": "2022-06-21T18:35:53.916807Z",
     "shell.execute_reply.started": "2022-06-21T18:35:53.876446Z"
    },
    "tags": []
   },
   "outputs": [],
   "source": [
    "df_nn=from_dict_to_df_raw(total_nn,\"NN\")\n",
    "now=datetime.now()\n",
    "date_time = now.strftime(\"%Y%m%d%H\")\n",
    "df_nn.to_csv(\"results/reg_nn\"+date_time+\".csv\")"
   ]
  },
  {
   "attachments": {},
   "cell_type": "markdown",
   "id": "d0f5ab1b-3ec3-49a5-a240-76b92ecd68ac",
   "metadata": {
    "tags": []
   },
   "source": [
    "## compile all DFs"
   ]
  },
  {
   "cell_type": "code",
   "execution_count": null,
   "id": "3b9ee3a1",
   "metadata": {},
   "outputs": [],
   "source": []
  },
  {
   "cell_type": "code",
   "execution_count": 81,
   "id": "f08012e8-0d51-4fe7-9fee-6305efb318b7",
   "metadata": {
    "execution": {
     "iopub.execute_input": "2022-06-22T13:50:36.406124Z",
     "iopub.status.busy": "2022-06-22T13:50:36.405127Z",
     "iopub.status.idle": "2022-06-22T13:50:36.426834Z",
     "shell.execute_reply": "2022-06-22T13:50:36.426489Z",
     "shell.execute_reply.started": "2022-06-22T13:50:36.406067Z"
    },
    "tags": []
   },
   "outputs": [],
   "source": [
    "now=datetime.now()\n",
    "date_time = now.strftime(\"%Y%m%d%H\")\n",
    "result = pd.concat([df_sgd,df_dt,df_nb,df_knn,df_adaboost,df_nn], axis=0)\n",
    "result.to_csv(\"results/reg_result_df\"+date_time+\".csv\")"
   ]
  },
  {
   "attachments": {},
   "cell_type": "markdown",
   "id": "a8a5c792-148b-4eb8-82f5-b946837d5fc4",
   "metadata": {},
   "source": [
    "# Total"
   ]
  },
  {
   "cell_type": "code",
   "execution_count": 72,
   "id": "6a448a41-b7fb-4235-a1cd-d130f25342f7",
   "metadata": {
    "execution": {
     "iopub.execute_input": "2022-06-27T07:27:36.243499Z",
     "iopub.status.busy": "2022-06-27T07:27:36.242730Z",
     "iopub.status.idle": "2022-06-27T07:27:36.264279Z",
     "shell.execute_reply": "2022-06-27T07:27:36.263821Z",
     "shell.execute_reply.started": "2022-06-27T07:27:36.243410Z"
    },
    "tags": []
   },
   "outputs": [],
   "source": [
    "def create_total_model_and_evaluate(\n",
    "    silos,\n",
    "    targets,\n",
    "    parameters,\n",
    "    global_model_name,cat_cols,int_cols,\n",
    "    model,\n",
    "    cv=10,\n",
    "    nr_repeats=10,samplingsilo=False\n",
    "):\n",
    "    np.random.seed(42)\n",
    "    if samplingsilo:\n",
    "        minisilos = [silo.sample(1500) if len(silo)>1500 else silo for silo in silos ]  # keep same nr rows\n",
    "    else:    \n",
    "        minisilos=[silo for silo in silos] #knn takes way too long\n",
    "    \n",
    "    full_data = pd.concat(minisilos).reset_index(drop=True)\n",
    "    full_metric = defaultdict(dict)\n",
    "    f = open(\"logs/reg_centralised_\" + str(type(global_model_name).__name__) + \".txt\", \"w\")\n",
    "\n",
    "    for target in targets:\n",
    "        print(\"testing....\",target)\n",
    "        log_to_file(f,[\"evaluating \" , target , \"... \"])\n",
    "\n",
    "        full_metric[target] = {\n",
    "            \"total\": {\"mae\": [], \"rmse\": []},\n",
    "            \"global\": {\"mae\": [], \"rmse\": []},\n",
    "        }\n",
    "\n",
    "        for i in range(nr_repeats):\n",
    "            r_s = np.random.randint(1, nr_repeats)\n",
    "            argspec = model.get_params()\n",
    "            if \"random_state\" in argspec.keys():\n",
    "                \n",
    "                total_clf = GridSearchCV(\n",
    "                    model.set_params(random_state=r_s),\n",
    "                    param_grid=parameters,\n",
    "                    cv=RepeatedKFold(n_splits=cv,n_repeats=2),\n",
    "                    n_jobs=-2,\n",
    "                )\n",
    "            else:\n",
    "                total_clf = GridSearchCV(\n",
    "                    model.set_params(),\n",
    "                    param_grid=parameters,\n",
    "                    cv=RepeatedKFold(n_splits=cv,n_repeats=2),\n",
    "                    n_jobs=-2,\n",
    "                )\n",
    "            y = full_data[target]\n",
    "            X = full_data.drop(columns=[target])\n",
    "            X_train, X_test, y_train, y_test = train_test_split(\n",
    "                X, y, test_size=0.2\n",
    "            )\n",
    "\n",
    "            total_clf.fit(X_train, y_train)\n",
    "           # print(models[target])\n",
    "            y_pred_t=total_clf.best_estimator_.predict(X_test)\n",
    "\n",
    "            full_metric[target][\"total\"][\"mae\"].append(\n",
    "                mean_absolute_error(y_test,y_pred_t)\n",
    "            )\n",
    "            \n",
    "            \n",
    "            full_metric[target][\"total\"][\"rmse\"].append(\n",
    "                mean_squared_error( y_test,y_pred_t)\n",
    "            )\n",
    "            \n",
    "        save_zipped_model(target, model, \"centralised\", total_clf)\n",
    "    f.close()\n",
    "\n",
    "    return full_metric\n",
    "result_dict={}"
   ]
  },
  {
   "cell_type": "code",
   "execution_count": 18,
   "id": "bbeada51-2fe1-4689-957d-efac808e7b9a",
   "metadata": {
    "collapsed": true,
    "execution": {
     "iopub.execute_input": "2022-06-22T13:53:05.604809Z",
     "iopub.status.busy": "2022-06-22T13:53:05.604005Z",
     "iopub.status.idle": "2022-06-22T15:54:46.473371Z",
     "shell.execute_reply": "2022-06-22T15:54:46.460551Z",
     "shell.execute_reply.started": "2022-06-22T13:53:05.604751Z"
    },
    "jupyter": {
     "outputs_hidden": true
    },
    "tags": []
   },
   "outputs": [
    {
     "name": "stdout",
     "output_type": "stream",
     "text": [
      "SGD\n",
      "testing.... IDADE_MATERNA\n",
      "testing.... PESO_INICIAL\n",
      "testing.... IMC\n",
      "testing.... NUMERO_CONSULTAS_PRE_NATAL\n",
      "testing.... IDADE_GESTACIONAL_ADMISSAO\n",
      "testing.... SEMANAS_GESTACAO_PARTO\n",
      "NaiveBayes\n",
      "testing.... IDADE_MATERNA\n",
      "testing.... PESO_INICIAL\n",
      "testing.... IMC\n",
      "testing.... NUMERO_CONSULTAS_PRE_NATAL\n",
      "testing.... IDADE_GESTACIONAL_ADMISSAO\n",
      "testing.... SEMANAS_GESTACAO_PARTO\n",
      "ADABOOST\n",
      "testing.... IDADE_MATERNA\n",
      "testing.... PESO_INICIAL\n",
      "testing.... IMC\n",
      "testing.... NUMERO_CONSULTAS_PRE_NATAL\n",
      "testing.... IDADE_GESTACIONAL_ADMISSAO\n",
      "testing.... SEMANAS_GESTACAO_PARTO\n",
      "NN\n",
      "testing.... IDADE_MATERNA\n",
      "testing.... PESO_INICIAL\n",
      "testing.... IMC\n",
      "testing.... NUMERO_CONSULTAS_PRE_NATAL\n",
      "testing.... IDADE_GESTACIONAL_ADMISSAO\n",
      "testing.... SEMANAS_GESTACAO_PARTO\n"
     ]
    }
   ],
   "source": [
    "data_dict={\"SGD\":[SGDRegressor(),[{\"alpha\": [1e-10,1e-5,1e-2],\"tol\":[40,50,30,20,12],\"eta0\":[1e-6,1e-5,1e-4],\"epsilon\":[0.1,0.01],\"penalty\":[\"l2\",\"l1\"],\"max_iter\":[10000]}]],\n",
    "   # \"decisionTree\":[DecisionTreeRegressor(),[{\"criterion\": [\"squared_error\", \"absolute_error\"], \"max_features\": [\"log2\", \"auto\"]}],slim_data_dt],\n",
    "           \"NaiveBayes\":[BayesianRidge(),[{\"tol\": [1e-3, 1e-4],\"alpha_1\":[1e-6,1e-5,1e-4],\"alpha_2\":[1e-6,1e-5,1e-4]}]],\n",
    "          # \"KNN\":(KNeighborsClassifier(),{\"n_neighbors\": [5,7,10],\"p\": [1,2]}),\n",
    "           \"ADABOOST\":[AdaBoostRegressor(),{\"learning_rate\": [1,2,0.5],\"n_estimators\": [25,50]}],\n",
    "           \"NN\":[MLPRegressor(),{\n",
    "            \"solver\": [\"lbfgs\"],\"learning_rate_init\":[0.001,1e-4],\"max_iter\":[10000,500],\"hidden_layer_sizes\":[(100,)],\n",
    "            \"alpha\": [1e-5,1e-4],\"learning_rate\":[\"adaptive\"],\"tol\":[10,20]}]\n",
    "           }\n",
    "\n",
    "\n",
    "for k,v in data_dict.items():\n",
    "    print(k)\n",
    "  #  print(v[2][\"IDADE_MATERNA\"][\"g_model\"][0])\n",
    "    result_dict[k] = create_total_model_and_evaluate(\n",
    "        silos=silo_imputed,\n",
    "        targets=target_int_cols,\n",
    "        parameters=v[1],cat_cols=cat_cols,int_cols=int_cols,\n",
    "        global_model_name=v[0],model=v[0]\n",
    "    )"
   ]
  },
  {
   "cell_type": "code",
   "execution_count": 20,
   "id": "dad1a448-1c92-4097-b59c-1961e2a5955d",
   "metadata": {
    "execution": {
     "iopub.execute_input": "2022-06-27T07:27:41.332997Z",
     "iopub.status.busy": "2022-06-27T07:27:41.332610Z",
     "iopub.status.idle": "2022-06-28T08:49:23.175052Z",
     "shell.execute_reply": "2022-06-28T08:49:23.173056Z",
     "shell.execute_reply.started": "2022-06-27T07:27:41.332968Z"
    },
    "tags": []
   },
   "outputs": [
    {
     "name": "stdout",
     "output_type": "stream",
     "text": [
      "decisionTree\n",
      "testing.... SEMANAS_GESTACAO_PARTO\n"
     ]
    }
   ],
   "source": [
    "data_dict={\n",
    "    \"decisionTree\":[DecisionTreeRegressor(),[{\"criterion\": [\"squared_error\", \"absolute_error\"], \"max_features\": [\"log2\", \"auto\"]}]],\n",
    "         }\n",
    "\n",
    "\n",
    "for k,v in data_dict.items():\n",
    "    print(k)\n",
    "    result_dict[k] = create_total_model_and_evaluate(\n",
    "        silos=silo_imputed,\n",
    "        targets=[\"SEMANAS_GESTACAO_PARTO\"],\n",
    "        parameters=v[1],cat_cols=cat_cols,int_cols=int_cols,\n",
    "        global_model_name=v[0],model=v[0]\n",
    "    )"
   ]
  },
  {
   "cell_type": "code",
   "execution_count": 73,
   "id": "a4dab6ec-6443-409f-933d-6e7e99c16174",
   "metadata": {
    "execution": {
     "iopub.execute_input": "2022-06-28T11:42:39.335145Z",
     "iopub.status.busy": "2022-06-28T11:42:39.334861Z"
    },
    "tags": []
   },
   "outputs": [
    {
     "name": "stdout",
     "output_type": "stream",
     "text": [
      "KNN\n",
      "testing.... IDADE_MATERNA\n",
      "testing.... PESO_INICIAL\n",
      "testing.... IMC\n",
      "testing.... NUMERO_CONSULTAS_PRE_NATAL\n",
      "testing.... IDADE_GESTACIONAL_ADMISSAO\n",
      "testing.... SEMANAS_GESTACAO_PARTO\n"
     ]
    }
   ],
   "source": [
    "data_dict={\n",
    "    \"KNN\":[KNeighborsRegressor(),[{\"n_neighbors\": [5,7,10],\"p\": [1,2]}]]\n",
    "         }\n",
    "#1361\n",
    "for k,v in data_dict.items():\n",
    "    print(k)\n",
    "  #  print(v[2][\"IDADE_MATERNA\"][\"g_model\"][0])\n",
    "    result_dict[k] = create_total_model_and_evaluate(\n",
    "        silos=silo_imputed,\n",
    "        targets=target_int_cols,\n",
    "        parameters=v[1],cat_cols=cat_cols,int_cols=int_cols,\n",
    "        global_model_name=v[0],model=v[0]\n",
    "    )"
   ]
  },
  {
   "cell_type": "code",
   "execution_count": null,
   "id": "63a51e68-fe9a-47a1-8a10-bdcbf8d7d539",
   "metadata": {
    "execution": {
     "iopub.execute_input": "2022-06-22T15:55:41.298765Z",
     "iopub.status.busy": "2022-06-22T15:55:41.297368Z",
     "iopub.status.idle": "2022-06-22T15:55:41.317505Z",
     "shell.execute_reply": "2022-06-22T15:55:41.317023Z",
     "shell.execute_reply.started": "2022-06-22T15:55:41.298725Z"
    },
    "tags": []
   },
   "outputs": [],
   "source": [
    "for k,v in result_dict.items():\n",
    "    for k2, v2 in v.items():\n",
    "        ttest, pval = ttest_ind(v2[\"total\"][\"rmse\"], v2[\"global\"][\"rmse\"], nan_policy=\"omit\")\n",
    "        print(k,k2, pval)"
   ]
  },
  {
   "cell_type": "markdown",
   "id": "bcb855fb",
   "metadata": {},
   "source": [
    "# All on silos"
   ]
  },
  {
   "cell_type": "code",
   "execution_count": 14,
   "id": "a37763c3-40c6-4835-992a-691e7de41dd3",
   "metadata": {
    "execution": {
     "iopub.execute_input": "2022-06-28T12:55:26.666091Z",
     "iopub.status.busy": "2022-06-28T12:55:26.665788Z",
     "iopub.status.idle": "2022-06-28T12:55:26.683738Z",
     "shell.execute_reply": "2022-06-28T12:55:26.682843Z",
     "shell.execute_reply.started": "2022-06-28T12:55:26.666065Z"
    },
    "tags": []
   },
   "outputs": [],
   "source": [
    "def evaluate_models_on_local_regression(\n",
    "        silos, target, metrics, cv, int_cols, cat_cols, tuned_parameters, model,f,\n",
    "        debug_mode=False\n",
    "):\n",
    "    \"\"\"\n",
    "    for every silo, trains and local model with hyperparameter tuning (CV)\n",
    "    After that, creates a global_model and with all locals and global evaluates on the test set several metrics\n",
    "    \"\"\"\n",
    "    grid_list = []\n",
    "    result = {}\n",
    "    models = []\n",
    "    test_sets = []\n",
    "    X_train_list = []\n",
    "    y_train_list = []\n",
    "    f = open(\"logs/regression_\" + str(type(model).__name__) + \".txt\", \"a\")\n",
    "    log_to_file(f,[\"start\",type(model).__name__])\n",
    "    for idx, silo in enumerate(silos):\n",
    "        if debug_mode:\n",
    "            print(\"silo\",str(idx))\n",
    "            print(np.random.randint(1,20))\n",
    "        if \"random_state\" in model.get_params().keys():\n",
    "            model.set_params(random_state=np.random.randint(1, 20))\n",
    "\n",
    "        clf = GridSearchCV(\n",
    "            model, tuned_parameters, cv=RepeatedKFold(n_splits=cv,n_repeats=2), n_jobs=-3,scoring = 'neg_mean_squared_error'\n",
    "        )\n",
    "        #X,y=evaluate_variables_and_transform_variables(silo,target,int_cols,cat_cols,full_classes[target])\n",
    "        y = silo[target]\n",
    "        X = silo.drop(columns=[target])\n",
    "        \n",
    "        X_train, X_test, y_train, y_test = train_test_split(\n",
    "                X, y, test_size=0.2\n",
    "            )\n",
    "\n",
    "        test_sets.append((y_test, X_test))\n",
    "        X_train_list.append(X_train)\n",
    "        y_train_list.append(y_train)\n",
    "        models.append(clf.fit(X_train, y_train).best_estimator_)\n",
    "        grid_list.append(clf)\n",
    "\n",
    "    distributed_model = load_model_from_zip(target + \"_\" + str(type(model).__name__) + \"_ensemble\")#[\"ensemble\"]\n",
    "    #print(distributed_model.keys())\n",
    "    centralised_model = load_model_from_zip(target + \"_\" + str(type(model).__name__) + \"_centralised\")\n",
    "    for idx, tests in enumerate(test_sets):\n",
    "        y_pred_l = models[idx].predict(tests[1])\n",
    "        y_pred_g = predict_global_model(distributed_model,tests[1])\n",
    "        y_pred_c = centralised_model.best_estimator_.predict(tests[1])\n",
    "        for metric in metrics:\n",
    "            if metric == \"rmse\":\n",
    "                result[\"silo\" + str(idx + 1) + \"_rmse_local\"] = mean_squared_error(tests[0],y_pred_l)\n",
    "\n",
    "                result[\"silo\" + str(idx + 1) + \"_rmse_distributed\"] = mean_squared_error(tests[0],y_pred_g)\n",
    "                \n",
    "                result[\"silo\" + str(idx + 1) + \"_rmse_centralised\"] = mean_squared_error(tests[0],y_pred_c)\n",
    "\n",
    "            if metric == \"mae\":\n",
    "                result[\"silo\" + str(idx + 1) + \"_mae_local\"] = mean_absolute_error(tests[0],y_pred_l)\n",
    "\n",
    "                result[\"silo\" + str(idx + 1) + \"_mae_distributed\"] = mean_absolute_error(tests[0],y_pred_g)\n",
    "\n",
    "                result[\"silo\" + str(idx + 1) + \"_mae_centralised\"] = mean_absolute_error(tests[0],y_pred_c)\n",
    "\n",
    "    f.close()\n",
    "\n",
    "    return result"
   ]
  },
  {
   "cell_type": "code",
   "execution_count": 15,
   "id": "4e0a8e52-beef-4b80-bc99-175739bc969b",
   "metadata": {
    "execution": {
     "iopub.execute_input": "2022-06-28T12:55:27.219823Z",
     "iopub.status.busy": "2022-06-28T12:55:27.219444Z",
     "iopub.status.idle": "2022-06-28T12:55:27.235553Z",
     "shell.execute_reply": "2022-06-28T12:55:27.234660Z",
     "shell.execute_reply.started": "2022-06-28T12:55:27.219796Z"
    },
    "tags": []
   },
   "outputs": [],
   "source": [
    "def evaluate_all_on_local_regression(\n",
    "        targets,\n",
    "        silos,\n",
    "        metrics,\n",
    "        tuned_parameters,\n",
    "        cv, int_cols, cat_cols, \n",
    "        model,\n",
    "        repeats, debug_mode=False\n",
    "):\n",
    "    total = {k: [] for k in targets}\n",
    "    np.random.seed(42)\n",
    "    for target in targets:\n",
    "        total[target] = {}\n",
    "        f = open(\"logs/log_\" + str(type(model).__name__) + \"_final_test_all_reg.txt\", \"a\")\n",
    "        log_to_file(f,[\"evaluating \" , target , \"... \"])\n",
    "\n",
    "        for metric in metrics:\n",
    "            for silonr, silo in enumerate(silos):\n",
    "                total[target][\"silo\" + str(silonr + 1) + \"_\" + metric + \"_local\"] = []\n",
    "                total[target][\"silo\" + str(silonr + 1) + \"_\" + metric + \"_distributed\"] = []\n",
    "                total[target][\"silo\" + str(silonr + 1) + \"_\" + metric + \"_centralised\"] = []\n",
    "\n",
    "        for i in range(repeats):\n",
    "            t = evaluate_models_on_local_regression(\n",
    "                silos=silos,\n",
    "                target=target,\n",
    "                metrics=metrics,\n",
    "                tuned_parameters=tuned_parameters,\n",
    "                cv=cv, int_cols=int_cols, cat_cols=cat_cols,\n",
    "                model=model,f=f, debug_mode=debug_mode\n",
    "            )\n",
    "            for metric in metrics:\n",
    "                for silonr, silo in enumerate(silos):\n",
    "                    total[target][\n",
    "                        \"silo\" + str(silonr + 1) + \"_\" + metric + \"_local\"\n",
    "                    ].append(t[\"silo\" + str(silonr + 1) + \"_\" + metric + \"_local\"])\n",
    "\n",
    "                    total[target][\n",
    "                        \"silo\" + str(silonr + 1) + \"_\" + metric + \"_distributed\"\n",
    "                    ].append(t[\"silo\" + str(silonr + 1) + \"_\" + metric + \"_distributed\"])\n",
    "\n",
    "                    total[target][\n",
    "                        \"silo\" + str(silonr + 1) + \"_\" + metric + \"_centralised\"\n",
    "                    ].append(t[\"silo\" + str(silonr + 1) + \"_\" + metric + \"_centralised\"])\n",
    "\n",
    "    f.close()\n",
    "\n",
    "    return total"
   ]
  },
  {
   "cell_type": "code",
   "execution_count": 16,
   "id": "040d72a7-27dc-432e-87e8-cac790cb1c2e",
   "metadata": {
    "execution": {
     "iopub.execute_input": "2023-01-10T15:46:24.711537Z",
     "iopub.status.busy": "2023-01-10T15:46:24.709696Z"
    },
    "pycharm": {
     "is_executing": true
    },
    "tags": []
   },
   "outputs": [
    {
     "data": {
      "text/html": [
       "\n",
       "                <audio  controls=\"controls\" autoplay=\"autoplay\">\n",
       "                    <source src=\"data:audio/x-wav;base64,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\" type=\"audio/x-wav\" />\n",
       "                    Your browser does not support the audio element.\n",
       "                </audio>\n",
       "              "
      ],
      "text/plain": [
       "<IPython.lib.display.Audio object>"
      ]
     },
     "execution_count": 16,
     "metadata": {},
     "output_type": "execute_result"
    }
   ],
   "source": [
    "#warnings.filterwarnings(\"ignore\")\n",
    "#145min\n",
    "sgd_all_local = evaluate_all_on_local_regression(\n",
    "    repeats=10,\n",
    "    targets=target_int_cols,\n",
    "    metrics=[\"rmse\",\"mae\"],\n",
    "    silos=silo_imputed,\n",
    "    cv=10,int_cols=int_cols,cat_cols=cat_cols,\n",
    "    tuned_parameters=[{\"alpha\": [1e-15,1e-10,1e-5,1e-2],\"tol\":[40,50,30,20,12],\"eta0\":[1e-6,1e-5,1e-4],\"epsilon\":[0.1,0.01],\"penalty\":[\"l2\",\"l1\"],\"max_iter\":[10000]}],\n",
    "    model=SGDRegressor(learning_rate=\"adaptive\"),debug_mode=False\n",
    ")\n",
    "alarm"
   ]
  },
  {
   "cell_type": "code",
   "execution_count": 17,
   "id": "83a1aea9",
   "metadata": {},
   "outputs": [],
   "source": [
    "df_sgd = from_dict_to_df_raw(sgd_all_local, \"SGD\")\n",
    "now = datetime.now()\n",
    "date_time = now.strftime(\"%Y%m%d%H\")\n",
    "df_sgd.to_csv(\"results/reg_all_in_all_sgd\" + date_time + \".csv\")"
   ]
  },
  {
   "cell_type": "code",
   "execution_count": 18,
   "id": "4f7e1112",
   "metadata": {},
   "outputs": [],
   "source": [
    "warnings.filterwarnings(\"ignore\")\n",
    "#238min\n",
    "tt_dt = evaluate_all_on_local_regression(targets=target_int_cols,\n",
    "    metrics=[\"rmse\",\"mae\"],\n",
    "    silos=silo_imputed,\n",
    "    cv=10,int_cols=int_cols,cat_cols=cat_cols,\n",
    "    tuned_parameters=[\n",
    "        {\"criterion\": [\"squared_error\", \"absolute_error\"], \"max_features\": [\"log2\", \"auto\"]}\n",
    "    ],\n",
    "    model=DecisionTreeRegressor(),\n",
    "    repeats=10)"
   ]
  },
  {
   "cell_type": "code",
   "execution_count": 19,
   "id": "1e2f9063",
   "metadata": {},
   "outputs": [],
   "source": [
    "df_dt = from_dict_to_df_raw(tt_dt, \"decisionTree\")\n",
    "now = datetime.now()\n",
    "date_time = now.strftime(\"%Y%m%d%H\")\n",
    "df_dt.to_csv(\"results/reg_all_in_all_dt\" + date_time + \".csv\")"
   ]
  },
  {
   "cell_type": "code",
   "execution_count": 20,
   "id": "563253f9",
   "metadata": {},
   "outputs": [],
   "source": [
    "warnings.filterwarnings(\"ignore\")\n",
    "#9min\n",
    "tt_nb  = evaluate_all_on_local_regression(\n",
    "  targets=target_int_cols,\n",
    "    metrics=[\"rmse\",\"mae\"],\n",
    "    silos=silo_imputed,\n",
    "    cv=10,int_cols=int_cols,cat_cols=cat_cols,\n",
    "    tuned_parameters=[{\"tol\": [1e-3, 1e-4],\"alpha_1\":[1e-6,1e-5,1e-4],\"alpha_2\":[1e-6,1e-5,1e-4]}],\n",
    "    model=BayesianRidge(),\n",
    "    repeats=10,debug_mode=False)"
   ]
  },
  {
   "cell_type": "code",
   "execution_count": 21,
   "id": "4d6de40b",
   "metadata": {},
   "outputs": [],
   "source": [
    "df_nb = from_dict_to_df_raw(tt_nb, \"NaiveBayes\")\n",
    "now = datetime.now()\n",
    "date_time = now.strftime(\"%Y%m%d%H\")\n",
    "df_nb.to_csv(\"results/reg_all_in_all_nb\" + date_time + \".csv\")"
   ]
  },
  {
   "cell_type": "code",
   "execution_count": 28,
   "id": "de8ae765",
   "metadata": {},
   "outputs": [],
   "source": [
    "warnings.filterwarnings(\"ignore\")\n",
    "#38m\n",
    "tt_ada = evaluate_all_on_local_regression(\n",
    "  targets=target_int_cols,\n",
    "    metrics=[\"rmse\",\"mae\"],\n",
    "    silos=silo_imputed,\n",
    "    cv=10,int_cols=int_cols,cat_cols=cat_cols,\n",
    "    tuned_parameters={\n",
    "            \"learning_rate\": [1,2,0.5],\n",
    "            \"n_estimators\": [25,50]\n",
    "        },\n",
    "    model= AdaBoostRegressor(),\n",
    "    repeats=10)"
   ]
  },
  {
   "cell_type": "code",
   "execution_count": 30,
   "id": "906b57a2",
   "metadata": {},
   "outputs": [],
   "source": [
    "df_adaboost = from_dict_to_df_raw(tt_ada, \"ADABOOST\")\n",
    "now = datetime.now()\n",
    "date_time = now.strftime(\"%Y%m%d%H\")\n",
    "df_adaboost.to_csv(\"results/reg_all_in_all_adaboost\" + date_time + \".csv\")"
   ]
  },
  {
   "cell_type": "code",
   "execution_count": 23,
   "id": "4fb82cd3",
   "metadata": {},
   "outputs": [],
   "source": [
    "warnings.filterwarnings(\"ignore\")\n",
    "#60m\n",
    "tt_knn = evaluate_all_on_local_regression( targets=target_int_cols,\n",
    "    metrics=[\"rmse\",\"mae\"],\n",
    "    silos=silo_imputed,\n",
    "    cv=10,int_cols=int_cols,cat_cols=cat_cols,\n",
    "     tuned_parameters={\n",
    "            \"n_neighbors\": [5,7,10],\n",
    "            \"p\": [1,2]\n",
    "        },\n",
    "    model=  KNeighborsRegressor(),\n",
    "    repeats=10)"
   ]
  },
  {
   "cell_type": "code",
   "execution_count": 24,
   "id": "9785b022",
   "metadata": {},
   "outputs": [],
   "source": [
    "df_knn = from_dict_to_df_raw(tt_knn, \"KNN\")\n",
    "now = datetime.now()\n",
    "date_time = now.strftime(\"%Y%m%d%H\")\n",
    "df_knn.to_csv(\"results/reg_all_in_all_knn\" + date_time + \".csv\")"
   ]
  },
  {
   "cell_type": "code",
   "execution_count": 25,
   "id": "cac14510",
   "metadata": {},
   "outputs": [],
   "source": [
    "warnings.filterwarnings(\"ignore\")\n",
    "#27min\n",
    "tt_nn =evaluate_all_on_local_regression(\n",
    "  targets=target_int_cols,\n",
    "    metrics=[\"rmse\",\"mae\"],\n",
    "    silos=silo_imputed,\n",
    "    cv=10,int_cols=int_cols,cat_cols=cat_cols,\n",
    "    tuned_parameters={\n",
    "            \"solver\": [\"lbfgs\"],\"learning_rate_init\":[0.001,1e-4],\"max_iter\":[10000,500],\"hidden_layer_sizes\":[(100,)],\n",
    "            \"alpha\": [1e-5,1e-4],\"learning_rate\":[\"adaptive\"],\"tol\":[10,20]\n",
    "        },\n",
    "    model= MLPRegressor(),\n",
    "    repeats=10)"
   ]
  },
  {
   "cell_type": "code",
   "execution_count": 26,
   "id": "adea3cfe",
   "metadata": {},
   "outputs": [],
   "source": [
    "df_nn = from_dict_to_df_raw(tt_nn, \"NN\")\n",
    "now = datetime.now()\n",
    "date_time = now.strftime(\"%Y%m%d%H\")\n",
    "df_nn.to_csv(\"results/reg_all_in_all_nn\" + date_time + \".csv\")"
   ]
  },
  {
   "cell_type": "code",
   "execution_count": 31,
   "id": "3d5fb143",
   "metadata": {},
   "outputs": [],
   "source": [
    "now = datetime.now()\n",
    "date_time = now.strftime(\"%Y%m%d%H\")\n",
    "result = pd.concat([df_sgd, df_dt, df_nb, df_adaboost, df_nn,df_knn], axis=0)\n",
    "result.to_csv(\"results/reg_result_all_in_all_df_\" + date_time + \".csv\")"
   ]
  },
  {
   "cell_type": "code",
   "execution_count": null,
   "id": "6b1f0590",
   "metadata": {},
   "outputs": [],
   "source": []
  }
 ],
 "metadata": {
  "kernelspec": {
   "display_name": "py3",
   "language": "python",
   "name": "python3"
  },
  "language_info": {
   "codemirror_mode": {
    "name": "ipython",
    "version": 3
   },
   "file_extension": ".py",
   "mimetype": "text/x-python",
   "name": "python",
   "nbconvert_exporter": "python",
   "pygments_lexer": "ipython3",
   "version": "3.9.10 | packaged by conda-forge | (main, Jan 30 2022, 18:02:27) \n[Clang 11.1.0 ]"
  },
  "vscode": {
   "interpreter": {
    "hash": "decfb96486dd89f89c2598b4e0cc278601247f7ab503e483e1f0537bf3d725c0"
   }
  }
 },
 "nbformat": 4,
 "nbformat_minor": 5
}
